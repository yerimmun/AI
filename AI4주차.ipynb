{
  "nbformat": 4,
  "nbformat_minor": 0,
  "metadata": {
    "colab": {
      "provenance": [],
      "collapsed_sections": [],
      "authorship_tag": "ABX9TyNyvd7leYuLv1a6Tyqawq9x",
      "include_colab_link": true
    },
    "kernelspec": {
      "name": "python3",
      "display_name": "Python 3"
    },
    "language_info": {
      "name": "python"
    }
  },
  "cells": [
    {
      "cell_type": "markdown",
      "metadata": {
        "id": "view-in-github",
        "colab_type": "text"
      },
      "source": [
        "<a href=\"https://colab.research.google.com/github/yerimmun/AI/blob/main/AI4%EC%A3%BC%EC%B0%A8.ipynb\" target=\"_parent\"><img src=\"https://colab.research.google.com/assets/colab-badge.svg\" alt=\"Open In Colab\"/></a>"
      ]
    },
    {
      "cell_type": "code",
      "source": [
        "x = list(range(10, 50, 3))\n",
        "x"
      ],
      "metadata": {
        "colab": {
          "base_uri": "https://localhost:8080/",
          "height": 0
        },
        "id": "GObJtd05tlPs",
        "outputId": "40b7384f-e411-42d4-c336-dba792fa6de9"
      },
      "execution_count": 7,
      "outputs": [
        {
          "output_type": "execute_result",
          "data": {
            "text/plain": [
              "[10, 13, 16, 19, 22, 25, 28, 31, 34, 37, 40, 43, 46, 49]"
            ]
          },
          "metadata": {},
          "execution_count": 7
        }
      ]
    },
    {
      "cell_type": "code",
      "source": [
        "len(x)"
      ],
      "metadata": {
        "colab": {
          "base_uri": "https://localhost:8080/",
          "height": 0
        },
        "id": "82CqY8rV1xsY",
        "outputId": "69405f05-1322-42ec-8dd4-4fdbc5e77354"
      },
      "execution_count": 8,
      "outputs": [
        {
          "output_type": "execute_result",
          "data": {
            "text/plain": [
              "14"
            ]
          },
          "metadata": {},
          "execution_count": 8
        }
      ]
    },
    {
      "cell_type": "code",
      "source": [
        "import numpy as np\n",
        "x = np.arange(1.5, 5.5, 0.3)\n",
        "x"
      ],
      "metadata": {
        "colab": {
          "base_uri": "https://localhost:8080/",
          "height": 0
        },
        "id": "MuT9U6N7124y",
        "outputId": "c05b64bf-c11c-45d9-be65-8f315b29fef7"
      },
      "execution_count": 9,
      "outputs": [
        {
          "output_type": "execute_result",
          "data": {
            "text/plain": [
              "array([1.5, 1.8, 2.1, 2.4, 2.7, 3. , 3.3, 3.6, 3.9, 4.2, 4.5, 4.8, 5.1,\n",
              "       5.4])"
            ]
          },
          "metadata": {},
          "execution_count": 9
        }
      ]
    },
    {
      "cell_type": "code",
      "source": [
        "type(x)"
      ],
      "metadata": {
        "colab": {
          "base_uri": "https://localhost:8080/",
          "height": 0
        },
        "id": "ftJUHz782HF2",
        "outputId": "2828a506-323b-4562-91a7-028a2aa46106"
      },
      "execution_count": 10,
      "outputs": [
        {
          "output_type": "execute_result",
          "data": {
            "text/plain": [
              "numpy.ndarray"
            ]
          },
          "metadata": {},
          "execution_count": 10
        }
      ]
    },
    {
      "cell_type": "code",
      "source": [
        "np.linspace(10, 70, 4)"
      ],
      "metadata": {
        "colab": {
          "base_uri": "https://localhost:8080/",
          "height": 0
        },
        "id": "WBwvutrXXyrk",
        "outputId": "10bda099-5568-4bbe-810b-fa54f62955f8"
      },
      "execution_count": 11,
      "outputs": [
        {
          "output_type": "execute_result",
          "data": {
            "text/plain": [
              "array([10., 30., 50., 70.])"
            ]
          },
          "metadata": {},
          "execution_count": 11
        }
      ]
    },
    {
      "cell_type": "code",
      "source": [
        "import numpy as np\n",
        "\n",
        "일차 = [85, 95, 100, 77, 92]\n",
        "이차 = [95, 70, 90, 60, 77]\n",
        "\n",
        "mid = np.array(일차)\n",
        "fin = np.array(이차)\n",
        "\n",
        "score = (mid + fin) / 2 + 3\n",
        "\n",
        "print( score )"
      ],
      "metadata": {
        "colab": {
          "base_uri": "https://localhost:8080/",
          "height": 0
        },
        "id": "EwEGuQzW2IVt",
        "outputId": "77408f2d-7f27-4909-b046-79bd79c9c357"
      },
      "execution_count": 12,
      "outputs": [
        {
          "output_type": "stream",
          "name": "stdout",
          "text": [
            "[93.  85.5 98.  71.5 87.5]\n"
          ]
        }
      ]
    },
    {
      "cell_type": "code",
      "execution_count": 13,
      "metadata": {
        "colab": {
          "base_uri": "https://localhost:8080/",
          "height": 0
        },
        "id": "H7k1mwYatNUb",
        "outputId": "a9cd5037-e6c4-41d7-bb45-2825cf575259"
      },
      "outputs": [
        {
          "output_type": "stream",
          "name": "stdout",
          "text": [
            "[92. 82. 72. 62. 52.]\n"
          ]
        }
      ],
      "source": [
        "import numpy as np\n",
        "\n",
        "중간 = [90, 80, 70, 60, 50]\n",
        "기말 = [80, 70, 60, 50, 40]\n",
        "\n",
        "mid = np.array(중간)\n",
        "fin = np.array(기말)\n",
        "\n",
        "score = (mid + fin) / 2 + 7\n",
        "\n",
        "print( score )"
      ]
    },
    {
      "cell_type": "code",
      "source": [
        "import matplotlib.pyplot as plt\n",
        "import numpy as np\n",
        "\n",
        "xlist = np.arange(-3.14, 3.14*2, 0.3)\n",
        "y_sin = np.sin(xlist)\n",
        "y_cos = np.cos(xlist\n",
        "               )\n",
        "plt.plot(xlist, y_sin)\n",
        "plt.plot(xlist, y_cos)\n",
        "\n",
        "plt.title('sine & cosine graph')\n",
        "plt.xlabel('x value')\n",
        "plt.ylabel('y value')\n",
        "plt.grid(True)\n",
        "\n",
        "plt.show()"
      ],
      "metadata": {
        "colab": {
          "base_uri": "https://localhost:8080/",
          "height": 295
        },
        "id": "mrxOfKM52bNL",
        "outputId": "0005439f-1fff-4b90-e8a9-25be1b43ebe7"
      },
      "execution_count": 16,
      "outputs": [
        {
          "output_type": "display_data",
          "data": {
            "text/plain": [
              "<Figure size 432x288 with 1 Axes>"
            ],
            "image/png": "[encoded data removed]"
          },
          "metadata": {
            "needs_background": "light"
          }
        }
      ]
    },
    {
      "cell_type": "code",
      "source": [
        "import numpy as np\n",
        "월급 = np.random.normal(270, 50, 10)\n",
        "상위 = np.percentile(월급, 80)\n",
        "하위 = np.percentile(월급, 25)\n",
        "중위 = np.percentile(월급, 50)\n",
        "지원금 = 중위 * 1.2\n",
        "\n",
        "print(상위)\n",
        "print(하위)\n",
        "print(중위)\n",
        "print(지원금)\n"
      ],
      "metadata": {
        "colab": {
          "base_uri": "https://localhost:8080/",
          "height": 0
        },
        "id": "9i8D-3CuYp1W",
        "outputId": "75b002bb-96f5-4eea-9c9a-6e8a1b856bbd"
      },
      "execution_count": 31,
      "outputs": [
        {
          "output_type": "stream",
          "name": "stdout",
          "text": [
            "299.57131084907036\n",
            "232.69816379154116\n",
            "256.8912149786068\n",
            "308.26945797432813\n"
          ]
        }
      ]
    }
  ]
}