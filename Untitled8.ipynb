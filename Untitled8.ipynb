{
  "nbformat": 4,
  "nbformat_minor": 0,
  "metadata": {
    "colab": {
      "provenance": [],
      "authorship_tag": "ABX9TyOCGC4s9XMlKTGxPSpZq0Ef",
      "include_colab_link": true
    },
    "kernelspec": {
      "name": "python3",
      "display_name": "Python 3"
    },
    "language_info": {
      "name": "python"
    }
  },
  "cells": [
    {
      "cell_type": "markdown",
      "metadata": {
        "id": "view-in-github",
        "colab_type": "text"
      },
      "source": [
        "<a href=\"https://colab.research.google.com/github/yerimmun/AI/blob/main/Untitled8.ipynb\" target=\"_parent\"><img src=\"https://colab.research.google.com/assets/colab-badge.svg\" alt=\"Open In Colab\"/></a>"
      ]
    },
    {
      "cell_type": "code",
      "execution_count": 8,
      "metadata": {
        "id": "laqxBwtuw3NW"
      },
      "outputs": [],
      "source": [
        "a = 10 //2"
      ]
    },
    {
      "cell_type": "code",
      "source": [
        "a = int(input(\"숫자를 입력하시오.: \"))\n",
        "b = int(input(\"숫자를 입력하시오.: \"))\n",
        "c = int(input(\"숫자를 입력하시오.: \"))\n",
        "if a > b and a > c:\n",
        "  print(\"최댓값은 \" + a +\"입니다.\")\n",
        "elif b>a and b>c:\n",
        "  print(\"최댓값은 \" ,b ,\"입니다.\")\n",
        "else:\n",
        "  print(\"최댓값은 \" + c +\"입니다.\")"
      ],
      "metadata": {
        "colab": {
          "base_uri": "https://localhost:8080/"
        },
        "id": "RTeD7tShH-9j",
        "outputId": "820af15f-c2f6-4af0-a2ef-800083f1f25d"
      },
      "execution_count": 16,
      "outputs": [
        {
          "output_type": "stream",
          "name": "stdout",
          "text": [
            "숫자를 입력하시오.: 1\n",
            "숫자를 입력하시오.: 3\n",
            "숫자를 입력하시오.: 2\n",
            "최댓값은  3 입니다.\n"
          ]
        }
      ]
    },
    {
      "cell_type": "code",
      "source": [
        "i = 1\n",
        "\n",
        "while i <= 10:\n",
        "  print(i)\n",
        "  i += 1"
      ],
      "metadata": {
        "colab": {
          "base_uri": "https://localhost:8080/"
        },
        "id": "GuKf2fDDLafY",
        "outputId": "eaba2ba0-70ab-4b08-ad7d-b1b31104c316"
      },
      "execution_count": 19,
      "outputs": [
        {
          "output_type": "stream",
          "name": "stdout",
          "text": [
            "1\n",
            "2\n",
            "3\n",
            "4\n",
            "5\n",
            "6\n",
            "7\n",
            "8\n",
            "9\n",
            "10\n"
          ]
        }
      ]
    },
    {
      "cell_type": "code",
      "source": [
        "i = -10\n",
        "while i <= 10:\n",
        "  print(i)\n",
        "  i += 1"
      ],
      "metadata": {
        "colab": {
          "base_uri": "https://localhost:8080/"
        },
        "id": "FAovOBpcXwW_",
        "outputId": "543111de-0ae4-4e1d-c94f-c37797e055d8"
      },
      "execution_count": 24,
      "outputs": [
        {
          "output_type": "stream",
          "name": "stdout",
          "text": [
            "-10\n",
            "-9\n",
            "-8\n",
            "-7\n",
            "-6\n",
            "-5\n",
            "-4\n",
            "-3\n",
            "-2\n",
            "-1\n",
            "0\n",
            "1\n",
            "2\n",
            "3\n",
            "4\n",
            "5\n",
            "6\n",
            "7\n",
            "8\n",
            "9\n",
            "10\n"
          ]
        }
      ]
    },
    {
      "cell_type": "code",
      "source": [
        "sum = 0\n",
        "gop = 1\n",
        "i =  1\n",
        "\n",
        "while i  <= 10:\n",
        "  sum +=  i\n",
        "  gop *=  i\n",
        "  i += 1\n",
        "print(sum, gop)"
      ],
      "metadata": {
        "colab": {
          "base_uri": "https://localhost:8080/"
        },
        "id": "ZWVN7QHLYaQe",
        "outputId": "92a51153-51bf-4b14-e7b8-ab6577e9226c"
      },
      "execution_count": 28,
      "outputs": [
        {
          "output_type": "stream",
          "name": "stdout",
          "text": [
            "55 3628800\n"
          ]
        }
      ]
    },
    {
      "cell_type": "code",
      "source": [
        "j = 0\n",
        "i = 5\n",
        "while i <= 5 and i >= 0 :\n",
        "  print(\"*\" * i)\n",
        "  i = i - 1"
      ],
      "metadata": {
        "colab": {
          "base_uri": "https://localhost:8080/"
        },
        "id": "SfVHl0_4hHFg",
        "outputId": "903a2acd-2f29-4a98-fe83-e9a7eaaf389f"
      },
      "execution_count": 58,
      "outputs": [
        {
          "output_type": "stream",
          "name": "stdout",
          "text": [
            "*****\n",
            "****\n",
            "***\n",
            "**\n",
            "*\n",
            "\n"
          ]
        }
      ]
    },
    {
      "cell_type": "code",
      "source": [
        "alphabets = \"abcdefghijklmnopqrstuvwxyz\"\n",
        "\n",
        "for i, c in enumerate(alphabets):\n",
        "  msg = str(i) + \"i\" + c\n",
        "  print(msg)"
      ],
      "metadata": {
        "colab": {
          "base_uri": "https://localhost:8080/"
        },
        "id": "gaWnn8kXhQlq",
        "outputId": "2404a526-5718-4653-9694-1185c939abbe"
      },
      "execution_count": 59,
      "outputs": [
        {
          "output_type": "stream",
          "name": "stdout",
          "text": [
            "0ia\n",
            "1ib\n",
            "2ic\n",
            "3id\n",
            "4ie\n",
            "5if\n",
            "6ig\n",
            "7ih\n",
            "8ii\n",
            "9ij\n",
            "10ik\n",
            "11il\n",
            "12im\n",
            "13in\n",
            "14io\n",
            "15ip\n",
            "16iq\n",
            "17ir\n",
            "18is\n",
            "19it\n",
            "20iu\n",
            "21iv\n",
            "22iw\n",
            "23ix\n",
            "24iy\n",
            "25iz\n"
          ]
        }
      ]
    },
    {
      "cell_type": "code",
      "source": [
        "alphabets = \"abcdefghijklmnopqrstuvwxyz\"\n",
        "\n",
        "for c in alphabets:\n",
        "  print(c)"
      ],
      "metadata": {
        "colab": {
          "base_uri": "https://localhost:8080/"
        },
        "id": "TDr-HsREip1v",
        "outputId": "f84a0f9a-6964-41db-c905-e53d1f68d7fa"
      },
      "execution_count": 61,
      "outputs": [
        {
          "output_type": "stream",
          "name": "stdout",
          "text": [
            "a\n",
            "b\n",
            "c\n",
            "d\n",
            "e\n",
            "f\n",
            "g\n",
            "h\n",
            "i\n",
            "j\n",
            "k\n",
            "l\n",
            "m\n",
            "n\n",
            "o\n",
            "p\n",
            "q\n",
            "r\n",
            "s\n",
            "t\n",
            "u\n",
            "v\n",
            "w\n",
            "x\n",
            "y\n",
            "z\n"
          ]
        }
      ]
    },
    {
      "cell_type": "code",
      "source": [
        "while True:\n",
        "  message=input(\"[말해보쇼.: ]\")\n",
        "  message = message.lower()\n",
        "\n",
        "  if message == '반갑소.' or message == '뭘보쇼.':\n",
        "    print('희희')\n",
        "    break\n",
        "  elif message == '어쩔티비':\n",
        "    print('저쩔삥뽕')\n",
        "  else:\n",
        "    print('썩 꺼져라.')"
      ],
      "metadata": {
        "colab": {
          "base_uri": "https://localhost:8080/"
        },
        "id": "JkSqT7Ffj7D4",
        "outputId": "7bee873d-8d01-4176-f9a4-d0522f0983d5"
      },
      "execution_count": 1,
      "outputs": [
        {
          "output_type": "stream",
          "name": "stdout",
          "text": [
            "[말해보쇼.: ]반갑소.\n",
            "희희\n"
          ]
        }
      ]
    },
    {
      "cell_type": "code",
      "source": [
        "import keyword\n",
        "\n",
        "print(keyword.kwlist)\n",
        "print(len(keyword.kwlist))"
      ],
      "metadata": {
        "colab": {
          "base_uri": "https://localhost:8080/"
        },
        "id": "_Cp5zYrm6yCh",
        "outputId": "6875b7a9-daee-4af6-a2e4-e2d9e0fab52a"
      },
      "execution_count": 4,
      "outputs": [
        {
          "output_type": "stream",
          "name": "stdout",
          "text": [
            "['False', 'None', 'True', 'and', 'as', 'assert', 'async', 'await', 'break', 'class', 'continue', 'def', 'del', 'elif', 'else', 'except', 'finally', 'for', 'from', 'global', 'if', 'import', 'in', 'is', 'lambda', 'nonlocal', 'not', 'or', 'pass', 'raise', 'return', 'try', 'while', 'with', 'yield']\n",
            "35\n"
          ]
        }
      ]
    },
    {
      "cell_type": "code",
      "source": [
        "my_print = print\n",
        "\n",
        "print(\"my_print testing\")\n",
        "my_print(\"testing\")"
      ],
      "metadata": {
        "colab": {
          "base_uri": "https://localhost:8080/"
        },
        "id": "naRD06G6AHar",
        "outputId": "1af9a40c-4b8d-485e-8be4-459ca0362b9a"
      },
      "execution_count": 5,
      "outputs": [
        {
          "output_type": "stream",
          "name": "stdout",
          "text": [
            "my_print testing\n",
            "testing\n"
          ]
        }
      ]
    },
    {
      "cell_type": "code",
      "source": [],
      "metadata": {
        "id": "nz7o6NUqBMzZ"
      },
      "execution_count": null,
      "outputs": []
    }
  ]
}