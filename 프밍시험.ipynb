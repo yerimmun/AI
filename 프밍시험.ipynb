{
  "nbformat": 4,
  "nbformat_minor": 0,
  "metadata": {
    "colab": {
      "provenance": [],
      "authorship_tag": "ABX9TyO+cXntAPEJ+IhiWBNHme64",
      "include_colab_link": true
    },
    "kernelspec": {
      "name": "python3",
      "display_name": "Python 3"
    },
    "language_info": {
      "name": "python"
    }
  },
  "cells": [
    {
      "cell_type": "markdown",
      "metadata": {
        "id": "view-in-github",
        "colab_type": "text"
      },
      "source": [
        "<a href=\"https://colab.research.google.com/github/yerimmun/AI/blob/main/%ED%94%84%EB%B0%8D%EC%8B%9C%ED%97%98.ipynb\" target=\"_parent\"><img src=\"https://colab.research.google.com/assets/colab-badge.svg\" alt=\"Open In Colab\"/></a>"
      ]
    },
    {
      "cell_type": "code",
      "execution_count": 58,
      "metadata": {
        "colab": {
          "base_uri": "https://localhost:8080/"
        },
        "id": "Wdrl84GyvMiC",
        "outputId": "7c077c7a-5767-4f3a-e118-1abfd79676f4"
      },
      "outputs": [
        {
          "output_type": "stream",
          "name": "stdout",
          "text": [
            "string 3, 5, 6, 7, 8, 9, 1, 100, 80 is now converted to a list\n",
            "converted_list: ['3', ' 5', ' 6', ' 7', ' 8', ' 9', ' 1', ' 100', ' 80']\n",
            "average of list: 24.333333333333332\n",
            "larger than 10 [' 100', ' 80']\n",
            "larger than 24.333333333333332 is [' 100', ' 80']\n",
            "---------------------------------\n",
            "string 34, 21, 3, 100, 12, 82, 77, 91, 26 is now converted to a list\n",
            "converted_list: ['34', ' 21', ' 3', ' 100', ' 12', ' 82', ' 77', ' 91', ' 26']\n",
            "average of list: 49.55555555555556\n",
            "larger than 10 ['34', ' 21', ' 100', ' 12', ' 82', ' 77', ' 91', ' 26']\n",
            "larger than 49.55555555555556 is ['34', ' 100', ' 82', ' 77', ' 91', ' 26']\n",
            "---------------------------------\n"
          ]
        }
      ],
      "source": [
        "class MyString_MYR:\n",
        "\n",
        "  \n",
        "  def __init__(self, data):\n",
        "    self.data = data\n",
        "    print(\"string\", self.data, \"is now converted to a list\")\n",
        "\n",
        "  def converted_list(self):\n",
        "    my_list = self.data.split(',')\n",
        "    return my_list\n",
        "\n",
        "  def average(self):\n",
        "    sum = 0\n",
        "    for i in (self.converted_list()):\n",
        "      sum = sum + int(i)\n",
        "\n",
        "    avg = sum/ len(self.converted_list())\n",
        "    return avg\n",
        "\n",
        "  def larger_than(self, num):\n",
        "    self.num = num\n",
        "    my_list2 = []\n",
        "    for i in self.converted_list():\n",
        "      if int(i) >  self.num:\n",
        "        my_list2.append(i)\n",
        "    return my_list2\n",
        "\n",
        "\n",
        "\n",
        "\n",
        "\n",
        "a = MyString_MYR(\"3, 5, 6, 7, 8, 9, 1, 100, 80\")\n",
        "print(\"converted_list:\", a.converted_list())\n",
        "print(\"average of list:\", a.average())\n",
        "print(\"larger than 10\", a.larger_than(10))\n",
        "print(\"larger than\", a.average(), \"is\", a.larger_than(a.average()))\n",
        "\n",
        "print(\"---------------------------------\")\n",
        "b = MyString_MYR(\"34, 21, 3, 100, 12, 82, 77, 91, 26\")\n",
        "print(\"converted_list:\", b.converted_list())\n",
        "print(\"average of list:\", b.average())\n",
        "print(\"larger than 10\", b.larger_than(10))\n",
        "print(\"larger than\", b.average(), \"is\", b.larger_than(a.average()))\n",
        "print(\"---------------------------------\")\n"
      ]
    },
    {
      "cell_type": "code",
      "source": [],
      "metadata": {
        "id": "-6zcN0k9vOLE"
      },
      "execution_count": null,
      "outputs": []
    }
  ]
}